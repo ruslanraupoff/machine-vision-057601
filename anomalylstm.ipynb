{
  "cells": [
    {
      "cell_type": "markdown",
      "metadata": {
        "id": "view-in-github",
        "colab_type": "text"
      },
      "source": [
        "<a href=\"https://colab.research.google.com/github/ruslanraupoff/machine-vision-057601/blob/master/anomalylstm.ipynb\" target=\"_parent\"><img src=\"https://colab.research.google.com/assets/colab-badge.svg\" alt=\"Open In Colab\"/></a>"
      ]
    },
    {
      "cell_type": "code",
      "execution_count": null,
      "metadata": {
        "colab": {
          "base_uri": "https://localhost:8080/"
        },
        "id": "Z-GlOpUcNWIE",
        "outputId": "6fa051a8-33dc-440c-91c3-cb678a2c3d92"
      },
      "outputs": [
        {
          "name": "stdout",
          "output_type": "stream",
          "text": [
            "Drive already mounted at /content/drive; to attempt to forcibly remount, call drive.mount(\"/content/drive\", force_remount=True).\n",
            "Mounted at /content/drive\n"
          ]
        }
      ],
      "source": [
        "from google.colab import drive\n",
        "drive.mount('/content/drive')"
      ]
    },
    {
      "cell_type": "code",
      "execution_count": null,
      "metadata": {
        "colab": {
          "base_uri": "https://localhost:8080/"
        },
        "id": "kTZ9ULLFNf7g",
        "outputId": "a826490b-9863-4228-ca8d-fd60087a8364"
      },
      "outputs": [
        {
          "name": "stdout",
          "output_type": "stream",
          "text": [
            "Looking in indexes: https://pypi.org/simple, https://us-python.pkg.dev/colab-wheels/public/simple/\n",
            "Requirement already satisfied: keras-layer-normalization in /usr/local/lib/python3.7/dist-packages (0.16.0)\n",
            "Requirement already satisfied: numpy in /usr/local/lib/python3.7/dist-packages (from keras-layer-normalization) (1.21.6)\n"
          ]
        }
      ],
      "source": [
        "!pip install keras-layer-normalization"
      ]
    },
    {
      "cell_type": "code",
      "execution_count": null,
      "metadata": {
        "id": "3tZ16PuCNiQd"
      },
      "outputs": [],
      "source": [
        "EPOCHS = 3\n",
        "BATCH_SIZE = 4\n",
        "BASE_DIR = '/content/drive/MyDrive/Sejong/Machine Vision/'\n",
        "DATASET_PATH = BASE_DIR + 'data/UCSDped1/Train'\n",
        "MODEL_PATH = BASE_DIR + 'models/model_lstm.hdf5'"
      ]
    },
    {
      "cell_type": "code",
      "execution_count": null,
      "metadata": {
        "id": "hV-amdrPOAmI",
        "outputId": "3e5a65af-9cdd-43df-da13-ae7ab174a767"
      },
      "outputs": [
        {
          "name": "stderr",
          "output_type": "stream",
          "text": [
            "2022-06-15 08:04:03.782526: I tensorflow/core/util/util.cc:169] oneDNN custom operations are on. You may see slightly different numerical results due to floating-point round-off errors from different computation orders. To turn them off, set the environment variable `TF_ENABLE_ONEDNN_OPTS=0`.\n"
          ]
        }
      ],
      "source": [
        "import shelve\n",
        "import numpy as np\n",
        "from PIL import Image\n",
        "from os import listdir\n",
        "import matplotlib.pyplot as plt\n",
        "from os.path import isfile, join, isdir\n",
        "\n",
        "import keras\n",
        "from keras.models import Sequential, load_model\n",
        "from keras.layers import Conv2DTranspose, ConvLSTM2D, BatchNormalization, TimeDistributed, Conv2D, LayerNormalization"
      ]
    },
    {
      "cell_type": "code",
      "execution_count": null,
      "metadata": {
        "id": "RDpvPndPN5mB"
      },
      "outputs": [],
      "source": [
        "def get_clips_by_stride(stride, frames_list, sequence_size):\n",
        "  \"\"\" For data augmenting purposes.\n",
        "  Parameters\n",
        "  ----------\n",
        "  stride : int\n",
        "      The desired distance between two consecutive frames\n",
        "  frames_list : list\n",
        "      A list of sorted frames of shape 256 X 256\n",
        "  sequence_size: int\n",
        "      The size of the desired LSTM sequence\n",
        "  Returns\n",
        "  -------\n",
        "  list\n",
        "      A list of clips , 10 frames each\n",
        "  \"\"\"\n",
        "  clips = []\n",
        "  sz = len(frames_list)\n",
        "  clip = np.zeros(shape=(sequence_size, 256, 256, 1))\n",
        "  cnt = 0\n",
        "  for start in range(0, stride):\n",
        "    for i in range(start, sz, stride):\n",
        "      clip[cnt, :, :, 0] = frames_list[i]\n",
        "      cnt = cnt + 1\n",
        "      if cnt == sequence_size:\n",
        "        clips.append(np.copy(clip))\n",
        "        cnt = 0\n",
        "  return clips\n",
        "\n",
        "\n",
        "def get_training_set():\n",
        "  \"\"\"\n",
        "  Returns\n",
        "  -------\n",
        "  list\n",
        "      A list of training sequences of shape (NUMBER_OF_SEQUENCES,SINGLE_SEQUENCE_SIZE,FRAME_WIDTH,FRAME_HEIGHT,1)\n",
        "  \"\"\"\n",
        "  #####################################\n",
        "  # cache = shelve.open(CACHE_PATH)\n",
        "  # return cache[\"datasetLSTM\"]\n",
        "  #####################################\n",
        "  clips = []\n",
        "  # loop over the training folders (Train000,Train001,..)\n",
        "  for f in sorted(listdir(DATASET_PATH)):\n",
        "    if isdir(join(DATASET_PATH, f)):\n",
        "      all_frames = []\n",
        "      # loop over all the images in the folder (0.tif,1.tif,..,199.tif)\n",
        "      for c in sorted(listdir(join(DATASET_PATH, f))):\n",
        "        if str(join(join(DATASET_PATH, f), c))[-3:] == \"tif\":\n",
        "          img = Image.open(join(join(DATASET_PATH, f), c)).resize((256, 256))\n",
        "          img = np.array(img, dtype=np.float32) / 256.0\n",
        "          all_frames.append(img)\n",
        "      # get the 10-frames sequences from the list of images after applying data augmentation\n",
        "      for stride in range(1, 3):\n",
        "        clips.extend(get_clips_by_stride(stride=stride, frames_list=all_frames, sequence_size=10))\n",
        "    return clips"
      ]
    },
    {
      "cell_type": "code",
      "execution_count": null,
      "metadata": {
        "id": "2i2mC2DVOLiv"
      },
      "outputs": [],
      "source": [
        "def get_model(reload_model=True):\n",
        "  \"\"\"\n",
        "  Parameters\n",
        "  ----------\n",
        "  reload_model : bool\n",
        "      Load saved model or retrain it\n",
        "  \"\"\"\n",
        "  if not reload_model:\n",
        "    return load_model(MODEL_PATH, custom_objects={'LayerNormalization': LayerNormalization})\n",
        "  training_set = get_training_set()\n",
        "  training_set = np.array(training_set)\n",
        "  training_set = training_set.reshape(-1,10,256,256,1)\n",
        "  seq = Sequential()\n",
        "  seq.add(TimeDistributed(Conv2D(128, (11, 11), strides=4, padding=\"same\"), batch_input_shape=(None, 10, 256, 256, 1)))\n",
        "  seq.add(LayerNormalization())\n",
        "  seq.add(TimeDistributed(Conv2D(64, (5, 5), strides=2, padding=\"same\")))\n",
        "  seq.add(LayerNormalization())\n",
        "  # # # # #\n",
        "  seq.add(ConvLSTM2D(64, (3, 3), padding=\"same\", return_sequences=True))\n",
        "  seq.add(LayerNormalization())\n",
        "  seq.add(ConvLSTM2D(32, (3, 3), padding=\"same\", return_sequences=True))\n",
        "  seq.add(LayerNormalization())\n",
        "  seq.add(ConvLSTM2D(64, (3, 3), padding=\"same\", return_sequences=True))\n",
        "  seq.add(LayerNormalization())\n",
        "  # # # # #\n",
        "  seq.add(TimeDistributed(Conv2DTranspose(64, (5, 5), strides=2, padding=\"same\")))\n",
        "  seq.add(LayerNormalization())\n",
        "  seq.add(TimeDistributed(Conv2DTranspose(128, (11, 11), strides=4, padding=\"same\")))\n",
        "  seq.add(LayerNormalization())\n",
        "  seq.add(TimeDistributed(Conv2D(1, (11, 11), activation=\"sigmoid\", padding=\"same\")))\n",
        "  print(seq.summary())\n",
        "  seq.compile(loss='mse', optimizer=keras.optimizers.Adam(lr=1e-4, decay=1e-5, epsilon=1e-6))\n",
        "  seq.fit(training_set, training_set, batch_size=BATCH_SIZE, epochs=EPOCHS, shuffle=False)\n",
        "  seq.save(MODEL_PATH)\n",
        "  return seq"
      ]
    },
    {
      "cell_type": "code",
      "execution_count": null,
      "metadata": {
        "id": "_XOPjH9CORWb"
      },
      "outputs": [],
      "source": [
        "def get_single_test(TEST_PATH):\n",
        "  sz = 200\n",
        "  test = np.zeros(shape=(sz, 256, 256, 1))\n",
        "  cnt = 0\n",
        "  for f in sorted(listdir(TEST_PATH)):\n",
        "    if str(join(TEST_PATH, f))[-3:] == \"tif\":\n",
        "      img = Image.open(join(TEST_PATH, f)).resize((256, 256))\n",
        "      img = np.array(img, dtype=np.float32) / 256.0\n",
        "      test[cnt, :, :, 0] = img\n",
        "      cnt = cnt + 1\n",
        "  return test"
      ]
    },
    {
      "cell_type": "code",
      "execution_count": null,
      "metadata": {
        "id": "zS97OiqbPoLL"
      },
      "outputs": [],
      "source": [
        "#get_model()"
      ]
    },
    {
      "cell_type": "code",
      "execution_count": null,
      "metadata": {
        "id": "WA9B9IEzOU5W"
      },
      "outputs": [],
      "source": [
        "def evaluate(TEST_PATH):\n",
        "  model = get_model(False)\n",
        "  print(\"got model\")\n",
        "  test = get_single_test(TEST_PATH)\n",
        "  print(test.shape)\n",
        "  sz = test.shape[0] - 10 + 1\n",
        "  sequences = np.zeros((sz, 10, 256, 256, 1))\n",
        "  # apply the sliding window technique to get the sequences\n",
        "  for i in range(0, sz):\n",
        "    clip = np.zeros((10, 256, 256, 1))\n",
        "    for j in range(0, 10):\n",
        "      clip[j] = test[i + j, :, :, :]\n",
        "    sequences[i] = clip\n",
        "\n",
        "  print(\"got data\")\n",
        "  # get the reconstruction cost of all the sequences\n",
        "  reconstructed_sequences = model.predict(sequences,batch_size=4)\n",
        "  sequences_reconstruction_cost = np.array([np.linalg.norm(np.subtract(sequences[i],reconstructed_sequences[i])) for i in range(0,sz)])\n",
        "  sa = (sequences_reconstruction_cost - np.min(sequences_reconstruction_cost)) / np.max(sequences_reconstruction_cost)\n",
        "  sr = 1.0 - sa\n",
        "\n",
        "  # plot the regularity scores\n",
        "  plt.plot(sr)\n",
        "  plt.ylabel('regularity score Sr(t)')\n",
        "  plt.xlabel('frame t')\n",
        "  plt.show()"
      ]
    },
    {
      "cell_type": "code",
      "execution_count": null,
      "metadata": {
        "colab": {
          "base_uri": "https://localhost:8080/"
        },
        "id": "bc8F073UQ63z",
        "outputId": "02224c74-aaee-4bc9-ff71-ae9fede217e8"
      },
      "outputs": [
        {
          "name": "stderr",
          "output_type": "stream",
          "text": [
            "2022-06-15 08:04:16.509728: W tensorflow/stream_executor/platform/default/dso_loader.cc:64] Could not load dynamic library 'libcudnn.so.8'; dlerror: libcudnn.so.8: cannot open shared object file: No such file or directory\n",
            "2022-06-15 08:04:16.509803: W tensorflow/core/common_runtime/gpu/gpu_device.cc:1850] Cannot dlopen some GPU libraries. Please make sure the missing libraries mentioned above are installed properly if you would like to use GPU. Follow the guide at https://www.tensorflow.org/install/gpu for how to download and setup the required libraries for your platform.\n",
            "Skipping registering GPU devices...\n",
            "2022-06-15 08:04:16.510653: I tensorflow/core/platform/cpu_feature_guard.cc:193] This TensorFlow binary is optimized with oneAPI Deep Neural Network Library (oneDNN) to use the following CPU instructions in performance-critical operations:  AVX2 AVX512F AVX512_VNNI FMA\n",
            "To enable them in other operations, rebuild TensorFlow with the appropriate compiler flags.\n"
          ]
        },
        {
          "name": "stdout",
          "output_type": "stream",
          "text": [
            "got model\n",
            "(200, 256, 256, 1)\n",
            "got data\n",
            "48/48 [==============================] - 225s 5s/step\n"
          ]
        },
        {
          "data": {
            "image/png": "[encoded data removed]",
            "text/plain": [
              "<Figure size 432x288 with 1 Axes>"
            ]
          },
          "metadata": {
            "needs_background": "light"
          },
          "output_type": "display_data"
        }
      ],
      "source": [
        "evaluate(BASE_DIR + 'data/UCSDped1/Test/Test032')"
      ]
    },
    {
      "cell_type": "code",
      "execution_count": null,
      "metadata": {
        "id": "gqQ9DaZqUGsl",
        "outputId": "fe5bab9c-32cd-4488-82e7-8860c9c0b0d2"
      },
      "outputs": [
        {
          "name": "stdout",
          "output_type": "stream",
          "text": [
            "got model\n",
            "(200, 256, 256, 1)\n",
            "got data\n",
            "48/48 [==============================] - 218s 5s/step\n"
          ]
        },
        {
          "data": {
            "image/png": "[encoded data removed]",
            "text/plain": [
              "<Figure size 432x288 with 1 Axes>"
            ]
          },
          "metadata": {
            "needs_background": "light"
          },
          "output_type": "display_data"
        }
      ],
      "source": [
        "evaluate(BASE_DIR + 'data/UCSDped2/Test/Test008')"
      ]
    },
    {
      "cell_type": "code",
      "execution_count": null,
      "metadata": {
        "id": "KWY9zaHgmkMq",
        "outputId": "36914ebd-8d39-4d94-acfe-6ad89c9964a5"
      },
      "outputs": [
        {
          "name": "stdout",
          "output_type": "stream",
          "text": [
            "got model\n",
            "(200, 256, 256, 1)\n",
            "got data\n",
            "48/48 [==============================] - 223s 5s/step\n"
          ]
        },
        {
          "data": {
            "image/png": "[encoded data removed]",
            "text/plain": [
              "<Figure size 432x288 with 1 Axes>"
            ]
          },
          "metadata": {
            "needs_background": "light"
          },
          "output_type": "display_data"
        }
      ],
      "source": [
        "evaluate(BASE_DIR + 'data/UCSDped1/Test/Test024')"
      ]
    },
    {
      "cell_type": "code",
      "execution_count": null,
      "metadata": {
        "id": "M2f69q9_Uz2O",
        "outputId": "a398ec07-78ca-4d83-987a-af93e612257d"
      },
      "outputs": [
        {
          "name": "stdout",
          "output_type": "stream",
          "text": [
            "got model\n",
            "(200, 256, 256, 1)\n",
            "got data\n",
            "48/48 [==============================] - 222s 5s/step\n"
          ]
        },
        {
          "data": {
            "image/png": "[encoded data removed]",
            "text/plain": [
              "<Figure size 432x288 with 1 Axes>"
            ]
          },
          "metadata": {
            "needs_background": "light"
          },
          "output_type": "display_data"
        }
      ],
      "source": [
        "evaluate(BASE_DIR + 'data/UCSDped2/Test/Test012')"
      ]
    },
    {
      "cell_type": "code",
      "execution_count": null,
      "metadata": {
        "id": "1LNAwTv1mkMr"
      },
      "outputs": [],
      "source": [
        ""
      ]
    }
  ],
  "metadata": {
    "colab": {
      "collapsed_sections": [],
      "name": "anomalylstm.ipynb",
      "provenance": [],
      "include_colab_link": true
    },
    "gpuClass": "standard",
    "kernelspec": {
      "display_name": "Python 3.9.12 ('base')",
      "language": "python",
      "name": "python3"
    },
    "language_info": {
      "codemirror_mode": {
        "name": "ipython",
        "version": 3
      },
      "file_extension": ".py",
      "mimetype": "text/x-python",
      "name": "python",
      "nbconvert_exporter": "python",
      "pygments_lexer": "ipython3",
      "version": "3.9.12"
    },
    "vscode": {
      "interpreter": {
        "hash": "63a6e6d2b20d1a87aef869caa5c018cd710dac555bae208bfcfb3ccd3e4fa7bf"
      }
    }
  },
  "nbformat": 4,
  "nbformat_minor": 0
}